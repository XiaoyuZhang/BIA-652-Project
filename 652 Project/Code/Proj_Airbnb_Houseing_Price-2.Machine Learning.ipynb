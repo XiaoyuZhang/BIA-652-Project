{
 "cells": [
  {
   "cell_type": "code",
   "execution_count": 13,
   "metadata": {
    "collapsed": false
   },
   "outputs": [],
   "source": [
    "import pandas as pd\n",
    "import numpy as np\n",
    "import seaborn as sns\n",
    "import matplotlib.pyplot as plt\n",
    "import sklearn\n",
    "import statsmodels.api as sm\n",
    "%matplotlib inline"
   ]
  },
  {
   "cell_type": "code",
   "execution_count": 14,
   "metadata": {
    "collapsed": true
   },
   "outputs": [],
   "source": [
    "import warnings\n",
    "warnings.filterwarnings('ignore')"
   ]
  },
  {
   "cell_type": "code",
   "execution_count": 15,
   "metadata": {
    "collapsed": false
   },
   "outputs": [],
   "source": [
    "%store -r data_new"
   ]
  },
  {
   "cell_type": "code",
   "execution_count": 77,
   "metadata": {
    "collapsed": false
   },
   "outputs": [
    {
     "data": {
      "text/plain": [
       "(41772, 74)"
      ]
     },
     "execution_count": 77,
     "metadata": {},
     "output_type": "execute_result"
    }
   ],
   "source": [
    "data_new.shape"
   ]
  },
  {
   "cell_type": "code",
   "execution_count": 17,
   "metadata": {
    "collapsed": false
   },
   "outputs": [],
   "source": [
    "col = data_new.columns.tolist()\n",
    "na_count = data_new.isnull().sum()"
   ]
  },
  {
   "cell_type": "code",
   "execution_count": 18,
   "metadata": {
    "collapsed": false
   },
   "outputs": [],
   "source": [
    "col_null = na_count.index[na_count.values>0]"
   ]
  },
  {
   "cell_type": "code",
   "execution_count": 19,
   "metadata": {
    "collapsed": false
   },
   "outputs": [],
   "source": [
    "data_new[col_null] = data_new[col_null].fillna(0)"
   ]
  },
  {
   "cell_type": "code",
   "execution_count": 44,
   "metadata": {
    "collapsed": true
   },
   "outputs": [],
   "source": [
    "from sklearn.model_selection import train_test_split\n",
    "\n",
    "X = data_new.ix[:, 1:]\n",
    "y = data_new.ix[:, 0]\n",
    "X_train, X_test, y_train, y_test = train_test_split(X, y, test_size = 0.2, random_state = 123)"
   ]
  },
  {
   "cell_type": "code",
   "execution_count": 55,
   "metadata": {
    "collapsed": true
   },
   "outputs": [],
   "source": [
    "from sklearn.model_selection import KFold\n",
    "kf = KFold(n_splits = 10)"
   ]
  },
  {
   "cell_type": "markdown",
   "metadata": {},
   "source": [
    "## Machine Learning"
   ]
  },
  {
   "cell_type": "markdown",
   "metadata": {},
   "source": [
    "### Baseline Model"
   ]
  },
  {
   "cell_type": "code",
   "execution_count": 22,
   "metadata": {
    "collapsed": true
   },
   "outputs": [],
   "source": [
    "from sklearn.metrics import mean_absolute_error, mean_squared_error"
   ]
  },
  {
   "cell_type": "code",
   "execution_count": 40,
   "metadata": {
    "collapsed": false
   },
   "outputs": [],
   "source": [
    "bl_price = pd.concat((X_train, y_train), axis = 1).groupby(\n",
    "    ['neighbourhood_cleansed', 'room_type'])['Total_Price'].mean().reset_index(drop = False)"
   ]
  },
  {
   "cell_type": "code",
   "execution_count": 41,
   "metadata": {
    "collapsed": false
   },
   "outputs": [
    {
     "data": {
      "text/html": [
       "<div>\n",
       "<table border=\"1\" class=\"dataframe\">\n",
       "  <thead>\n",
       "    <tr style=\"text-align: right;\">\n",
       "      <th></th>\n",
       "      <th>neighbourhood_cleansed</th>\n",
       "      <th>room_type</th>\n",
       "      <th>Total_Price</th>\n",
       "    </tr>\n",
       "  </thead>\n",
       "  <tbody>\n",
       "    <tr>\n",
       "      <th>0</th>\n",
       "      <td>Barking and Dagenham</td>\n",
       "      <td>Entire home/apt</td>\n",
       "      <td>80.111111</td>\n",
       "    </tr>\n",
       "    <tr>\n",
       "      <th>1</th>\n",
       "      <td>Barking and Dagenham</td>\n",
       "      <td>Private room</td>\n",
       "      <td>41.068182</td>\n",
       "    </tr>\n",
       "    <tr>\n",
       "      <th>2</th>\n",
       "      <td>Barking and Dagenham</td>\n",
       "      <td>Shared room</td>\n",
       "      <td>25.000000</td>\n",
       "    </tr>\n",
       "    <tr>\n",
       "      <th>3</th>\n",
       "      <td>Barnet</td>\n",
       "      <td>Entire home/apt</td>\n",
       "      <td>130.820513</td>\n",
       "    </tr>\n",
       "    <tr>\n",
       "      <th>4</th>\n",
       "      <td>Barnet</td>\n",
       "      <td>Private room</td>\n",
       "      <td>47.917379</td>\n",
       "    </tr>\n",
       "  </tbody>\n",
       "</table>\n",
       "</div>"
      ],
      "text/plain": [
       "  neighbourhood_cleansed        room_type  Total_Price\n",
       "0   Barking and Dagenham  Entire home/apt    80.111111\n",
       "1   Barking and Dagenham     Private room    41.068182\n",
       "2   Barking and Dagenham      Shared room    25.000000\n",
       "3                 Barnet  Entire home/apt   130.820513\n",
       "4                 Barnet     Private room    47.917379"
      ]
     },
     "execution_count": 41,
     "metadata": {},
     "output_type": "execute_result"
    }
   ],
   "source": [
    "bl_price.head()"
   ]
  },
  {
   "cell_type": "code",
   "execution_count": 46,
   "metadata": {
    "collapsed": true
   },
   "outputs": [],
   "source": [
    "X_test = pd.merge(X_test, bl_price, on = ['neighbourhood_cleansed', 'room_type'], how = 'left')"
   ]
  },
  {
   "cell_type": "code",
   "execution_count": 49,
   "metadata": {
    "collapsed": false
   },
   "outputs": [
    {
     "data": {
      "text/plain": [
       "2779.389098068712"
      ]
     },
     "execution_count": 49,
     "metadata": {},
     "output_type": "execute_result"
    }
   ],
   "source": [
    "mean_squared_error(y_test, X_test['Total_Price'])"
   ]
  },
  {
   "cell_type": "markdown",
   "metadata": {},
   "source": [
    "### Drop unnecessary columns in X_train and X_test"
   ]
  },
  {
   "cell_type": "code",
   "execution_count": 50,
   "metadata": {
    "collapsed": true
   },
   "outputs": [],
   "source": [
    "X_train = X_train.drop(['neighbourhood_cleansed', 'room_type'], axis = 1)\n",
    "X_test = X_test.ix[:,:-3]"
   ]
  },
  {
   "cell_type": "markdown",
   "metadata": {},
   "source": [
    "### Linear Regression"
   ]
  },
  {
   "cell_type": "code",
   "execution_count": null,
   "metadata": {
    "collapsed": true
   },
   "outputs": [],
   "source": []
  },
  {
   "cell_type": "code",
   "execution_count": 53,
   "metadata": {
    "collapsed": true
   },
   "outputs": [],
   "source": [
    "from sklearn.linear_model import LinearRegression"
   ]
  },
  {
   "cell_type": "code",
   "execution_count": 60,
   "metadata": {
    "collapsed": false
   },
   "outputs": [
    {
     "name": "stdout",
     "output_type": "stream",
     "text": [
      "CPU times: user 1.94 s, sys: 221 ms, total: 2.16 s\n",
      "Wall time: 1.22 s\n"
     ]
    }
   ],
   "source": [
    "%%time\n",
    "lr = LinearRegression()\n",
    "score = []\n",
    "for train_idx, test_idx in kf.split(X_train.values):\n",
    "    X_train_val, y_train_val = X_train.values[train_idx], y_train.values[train_idx]\n",
    "    X_test_val, y_test_val = X_train.values[test_idx], y_train.values[test_idx]\n",
    "    mse = mean_squared_error(y_test_val , lr.fit(X_train_val, y_train_val).predict(X_test_val))\n",
    "    score.append(mse)"
   ]
  },
  {
   "cell_type": "code",
   "execution_count": 64,
   "metadata": {
    "collapsed": false
   },
   "outputs": [
    {
     "data": {
      "text/plain": [
       "1851.7663082556708"
      ]
     },
     "execution_count": 64,
     "metadata": {},
     "output_type": "execute_result"
    }
   ],
   "source": [
    "np.mean(score)"
   ]
  },
  {
   "cell_type": "code",
   "execution_count": 65,
   "metadata": {
    "collapsed": true
   },
   "outputs": [],
   "source": [
    "import statsmodels.api as sm"
   ]
  },
  {
   "cell_type": "code",
   "execution_count": 82,
   "metadata": {
    "collapsed": true
   },
   "outputs": [],
   "source": [
    "model = sm.OLS(y_train, sm.add_constant(X_train)).fit()\n",
    "model.predict?"
   ]
  },
  {
   "cell_type": "code",
   "execution_count": 83,
   "metadata": {
    "collapsed": false
   },
   "outputs": [],
   "source": [
    "y_pred = model.predict(sm.add_constant(X_test))"
   ]
  },
  {
   "cell_type": "code",
   "execution_count": 84,
   "metadata": {
    "collapsed": false
   },
   "outputs": [
    {
     "data": {
      "text/plain": [
       "1874.303228574008"
      ]
     },
     "execution_count": 84,
     "metadata": {},
     "output_type": "execute_result"
    }
   ],
   "source": [
    "mean_squared_error(y_test, y_pred)"
   ]
  },
  {
   "cell_type": "code",
   "execution_count": 85,
   "metadata": {
    "collapsed": false
   },
   "outputs": [
    {
     "data": {
      "text/html": [
       "<table class=\"simpletable\">\n",
       "<caption>OLS Regression Results</caption>\n",
       "<tr>\n",
       "  <th>Dep. Variable:</th>       <td>Total_Price</td>   <th>  R-squared:         </th>  <td>   0.665</td>  \n",
       "</tr>\n",
       "<tr>\n",
       "  <th>Model:</th>                   <td>OLS</td>       <th>  Adj. R-squared:    </th>  <td>   0.664</td>  \n",
       "</tr>\n",
       "<tr>\n",
       "  <th>Method:</th>             <td>Least Squares</td>  <th>  F-statistic:       </th>  <td>   986.0</td>  \n",
       "</tr>\n",
       "<tr>\n",
       "  <th>Date:</th>             <td>Sat, 29 Oct 2016</td> <th>  Prob (F-statistic):</th>   <td>  0.00</td>   \n",
       "</tr>\n",
       "<tr>\n",
       "  <th>Time:</th>                 <td>14:43:55</td>     <th>  Log-Likelihood:    </th> <td>-1.7306e+05</td>\n",
       "</tr>\n",
       "<tr>\n",
       "  <th>No. Observations:</th>      <td> 33417</td>      <th>  AIC:               </th>  <td>3.463e+05</td> \n",
       "</tr>\n",
       "<tr>\n",
       "  <th>Df Residuals:</th>          <td> 33349</td>      <th>  BIC:               </th>  <td>3.468e+05</td> \n",
       "</tr>\n",
       "<tr>\n",
       "  <th>Df Model:</th>              <td>    67</td>      <th>                     </th>      <td> </td>     \n",
       "</tr>\n",
       "<tr>\n",
       "  <th>Covariance Type:</th>      <td>nonrobust</td>    <th>                     </th>      <td> </td>     \n",
       "</tr>\n",
       "</table>\n",
       "<table class=\"simpletable\">\n",
       "<tr>\n",
       "                        <td></td>                           <th>coef</th>     <th>std err</th>      <th>t</th>      <th>P>|t|</th> <th>[95.0% Conf. Int.]</th> \n",
       "</tr>\n",
       "<tr>\n",
       "  <th>const</th>                                         <td>   20.3545</td> <td>    2.654</td> <td>    7.670</td> <td> 0.000</td> <td>   15.153    25.556</td>\n",
       "</tr>\n",
       "<tr>\n",
       "  <th>accommodates</th>                                  <td>    9.4591</td> <td>    0.283</td> <td>   33.372</td> <td> 0.000</td> <td>    8.904    10.015</td>\n",
       "</tr>\n",
       "<tr>\n",
       "  <th>bathrooms</th>                                     <td>   10.7711</td> <td>    0.501</td> <td>   21.479</td> <td> 0.000</td> <td>    9.788    11.754</td>\n",
       "</tr>\n",
       "<tr>\n",
       "  <th>bedrooms</th>                                      <td>   26.4198</td> <td>    0.500</td> <td>   52.820</td> <td> 0.000</td> <td>   25.439    27.400</td>\n",
       "</tr>\n",
       "<tr>\n",
       "  <th>beds</th>                                          <td>   -3.7375</td> <td>    0.379</td> <td>   -9.874</td> <td> 0.000</td> <td>   -4.479    -2.996</td>\n",
       "</tr>\n",
       "<tr>\n",
       "  <th>minimum_nights</th>                                <td>   -0.0694</td> <td>    0.033</td> <td>   -2.100</td> <td> 0.036</td> <td>   -0.134    -0.005</td>\n",
       "</tr>\n",
       "<tr>\n",
       "  <th>number_of_reviews</th>                             <td>   -0.0370</td> <td>    0.014</td> <td>   -2.636</td> <td> 0.008</td> <td>   -0.064    -0.009</td>\n",
       "</tr>\n",
       "<tr>\n",
       "  <th>review_scores_rating</th>                          <td>    0.1637</td> <td>    0.041</td> <td>    3.979</td> <td> 0.000</td> <td>    0.083     0.244</td>\n",
       "</tr>\n",
       "<tr>\n",
       "  <th>review_scores_accuracy</th>                        <td>   -0.4021</td> <td>    0.393</td> <td>   -1.023</td> <td> 0.306</td> <td>   -1.173     0.369</td>\n",
       "</tr>\n",
       "<tr>\n",
       "  <th>review_scores_cleanliness</th>                     <td>    3.2230</td> <td>    0.331</td> <td>    9.748</td> <td> 0.000</td> <td>    2.575     3.871</td>\n",
       "</tr>\n",
       "<tr>\n",
       "  <th>review_scores_checkin</th>                         <td>   -2.0442</td> <td>    0.408</td> <td>   -5.013</td> <td> 0.000</td> <td>   -2.843    -1.245</td>\n",
       "</tr>\n",
       "<tr>\n",
       "  <th>review_scores_communication</th>                   <td>   -3.2544</td> <td>    0.412</td> <td>   -7.891</td> <td> 0.000</td> <td>   -4.063    -2.446</td>\n",
       "</tr>\n",
       "<tr>\n",
       "  <th>review_scores_location</th>                        <td>    4.1293</td> <td>    0.334</td> <td>   12.352</td> <td> 0.000</td> <td>    3.474     4.785</td>\n",
       "</tr>\n",
       "<tr>\n",
       "  <th>review_scores_value</th>                           <td>   -4.2733</td> <td>    0.421</td> <td>  -10.154</td> <td> 0.000</td> <td>   -5.098    -3.448</td>\n",
       "</tr>\n",
       "<tr>\n",
       "  <th>reviews_per_month</th>                             <td>   -3.5793</td> <td>    0.270</td> <td>  -13.272</td> <td> 0.000</td> <td>   -4.108    -3.051</td>\n",
       "</tr>\n",
       "<tr>\n",
       "  <th>host_response_rate</th>                            <td>   -9.5570</td> <td>    1.547</td> <td>   -6.178</td> <td> 0.000</td> <td>  -12.589    -6.525</td>\n",
       "</tr>\n",
       "<tr>\n",
       "  <th>host_acceptance_rate</th>                          <td>   -0.6083</td> <td>    0.852</td> <td>   -0.714</td> <td> 0.475</td> <td>   -2.279     1.063</td>\n",
       "</tr>\n",
       "<tr>\n",
       "  <th>host_days</th>                                     <td>    0.0048</td> <td>    0.000</td> <td>    9.645</td> <td> 0.000</td> <td>    0.004     0.006</td>\n",
       "</tr>\n",
       "<tr>\n",
       "  <th>host_response_time</th>                            <td>   -3.4235</td> <td>    0.430</td> <td>   -7.969</td> <td> 0.000</td> <td>   -4.266    -2.581</td>\n",
       "</tr>\n",
       "<tr>\n",
       "  <th>host_is_superhost</th>                             <td>   10.3136</td> <td>    1.043</td> <td>    9.887</td> <td> 0.000</td> <td>    8.269    12.358</td>\n",
       "</tr>\n",
       "<tr>\n",
       "  <th>host_has_profile_pic</th>                          <td>    6.4508</td> <td>    3.840</td> <td>    1.680</td> <td> 0.093</td> <td>   -1.076    13.978</td>\n",
       "</tr>\n",
       "<tr>\n",
       "  <th>host_identity_verified</th>                        <td>    4.0228</td> <td>    0.514</td> <td>    7.833</td> <td> 0.000</td> <td>    3.016     5.029</td>\n",
       "</tr>\n",
       "<tr>\n",
       "  <th>instant_bookable</th>                              <td>    4.2719</td> <td>    0.693</td> <td>    6.166</td> <td> 0.000</td> <td>    2.914     5.630</td>\n",
       "</tr>\n",
       "<tr>\n",
       "  <th>cancellation_policy</th>                           <td>   -7.4314</td> <td>    0.303</td> <td>  -24.530</td> <td> 0.000</td> <td>   -8.025    -6.838</td>\n",
       "</tr>\n",
       "<tr>\n",
       "  <th>require_guest_profile_picture</th>                 <td>   -1.8806</td> <td>    2.070</td> <td>   -0.908</td> <td> 0.364</td> <td>   -5.938     2.177</td>\n",
       "</tr>\n",
       "<tr>\n",
       "  <th>require_guest_phone_verification</th>              <td>   -0.0453</td> <td>    1.772</td> <td>   -0.026</td> <td> 0.980</td> <td>   -3.519     3.428</td>\n",
       "</tr>\n",
       "<tr>\n",
       "  <th>experiences_offered_business</th>                  <td>    9.0844</td> <td>    1.398</td> <td>    6.498</td> <td> 0.000</td> <td>    6.344    11.825</td>\n",
       "</tr>\n",
       "<tr>\n",
       "  <th>experiences_offered_family</th>                    <td>    0.7802</td> <td>    1.599</td> <td>    0.488</td> <td> 0.626</td> <td>   -2.355     3.915</td>\n",
       "</tr>\n",
       "<tr>\n",
       "  <th>experiences_offered_none</th>                      <td>   -0.0755</td> <td>    0.855</td> <td>   -0.088</td> <td> 0.930</td> <td>   -1.752     1.601</td>\n",
       "</tr>\n",
       "<tr>\n",
       "  <th>experiences_offered_romantic</th>                  <td>    8.3276</td> <td>    1.955</td> <td>    4.260</td> <td> 0.000</td> <td>    4.496    12.159</td>\n",
       "</tr>\n",
       "<tr>\n",
       "  <th>experiences_offered_social</th>                    <td>    2.2378</td> <td>    1.504</td> <td>    1.488</td> <td> 0.137</td> <td>   -0.710     5.186</td>\n",
       "</tr>\n",
       "<tr>\n",
       "  <th>neighbourhood_cleansed_Barking and Dagenham</th>   <td>  -20.4923</td> <td>    5.276</td> <td>   -3.884</td> <td> 0.000</td> <td>  -30.833   -10.152</td>\n",
       "</tr>\n",
       "<tr>\n",
       "  <th>neighbourhood_cleansed_Barnet</th>                 <td>   -5.1480</td> <td>    1.832</td> <td>   -2.811</td> <td> 0.005</td> <td>   -8.738    -1.558</td>\n",
       "</tr>\n",
       "<tr>\n",
       "  <th>neighbourhood_cleansed_Bexley</th>                 <td>  -22.1129</td> <td>    5.406</td> <td>   -4.090</td> <td> 0.000</td> <td>  -32.709   -11.517</td>\n",
       "</tr>\n",
       "<tr>\n",
       "  <th>neighbourhood_cleansed_Brent</th>                  <td>   -4.8551</td> <td>    1.484</td> <td>   -3.273</td> <td> 0.001</td> <td>   -7.763    -1.947</td>\n",
       "</tr>\n",
       "<tr>\n",
       "  <th>neighbourhood_cleansed_Bromley</th>                <td>  -14.9930</td> <td>    2.756</td> <td>   -5.440</td> <td> 0.000</td> <td>  -20.395    -9.591</td>\n",
       "</tr>\n",
       "<tr>\n",
       "  <th>neighbourhood_cleansed_Camden</th>                 <td>   22.3399</td> <td>    0.978</td> <td>   22.844</td> <td> 0.000</td> <td>   20.423    24.257</td>\n",
       "</tr>\n",
       "<tr>\n",
       "  <th>neighbourhood_cleansed_City of London</th>         <td>   55.4545</td> <td>    2.752</td> <td>   20.154</td> <td> 0.000</td> <td>   50.061    60.848</td>\n",
       "</tr>\n",
       "<tr>\n",
       "  <th>neighbourhood_cleansed_Croydon</th>                <td>  -15.0164</td> <td>    2.412</td> <td>   -6.225</td> <td> 0.000</td> <td>  -19.744   -10.289</td>\n",
       "</tr>\n",
       "<tr>\n",
       "  <th>neighbourhood_cleansed_Ealing</th>                 <td>   -1.2031</td> <td>    1.805</td> <td>   -0.667</td> <td> 0.505</td> <td>   -4.740     2.334</td>\n",
       "</tr>\n",
       "<tr>\n",
       "  <th>neighbourhood_cleansed_Enfield</th>                <td>  -10.2008</td> <td>    3.016</td> <td>   -3.382</td> <td> 0.001</td> <td>  -16.113    -4.289</td>\n",
       "</tr>\n",
       "<tr>\n",
       "  <th>neighbourhood_cleansed_Greenwich</th>              <td>   -5.0479</td> <td>    1.894</td> <td>   -2.665</td> <td> 0.008</td> <td>   -8.761    -1.335</td>\n",
       "</tr>\n",
       "<tr>\n",
       "  <th>neighbourhood_cleansed_Hackney</th>                <td>    2.3991</td> <td>    0.893</td> <td>    2.686</td> <td> 0.007</td> <td>    0.649     4.150</td>\n",
       "</tr>\n",
       "<tr>\n",
       "  <th>neighbourhood_cleansed_Hammersmith and Fulham</th> <td>   17.0170</td> <td>    1.097</td> <td>   15.511</td> <td> 0.000</td> <td>   14.867    19.167</td>\n",
       "</tr>\n",
       "<tr>\n",
       "  <th>neighbourhood_cleansed_Haringey</th>               <td>  -10.7183</td> <td>    1.428</td> <td>   -7.504</td> <td> 0.000</td> <td>  -13.518    -7.919</td>\n",
       "</tr>\n",
       "<tr>\n",
       "  <th>neighbourhood_cleansed_Harrow</th>                 <td>   -9.6340</td> <td>    3.608</td> <td>   -2.670</td> <td> 0.008</td> <td>  -16.706    -2.562</td>\n",
       "</tr>\n",
       "<tr>\n",
       "  <th>neighbourhood_cleansed_Havering</th>               <td>  -25.1828</td> <td>    5.361</td> <td>   -4.697</td> <td> 0.000</td> <td>  -35.691   -14.675</td>\n",
       "</tr>\n",
       "<tr>\n",
       "  <th>neighbourhood_cleansed_Hillingdon</th>             <td>  -10.8922</td> <td>    3.634</td> <td>   -2.997</td> <td> 0.003</td> <td>  -18.016    -3.769</td>\n",
       "</tr>\n",
       "<tr>\n",
       "  <th>neighbourhood_cleansed_Hounslow</th>               <td>    3.4529</td> <td>    2.155</td> <td>    1.602</td> <td> 0.109</td> <td>   -0.771     7.677</td>\n",
       "</tr>\n",
       "<tr>\n",
       "  <th>neighbourhood_cleansed_Islington</th>              <td>   11.6233</td> <td>    0.989</td> <td>   11.755</td> <td> 0.000</td> <td>    9.685    13.561</td>\n",
       "</tr>\n",
       "<tr>\n",
       "  <th>neighbourhood_cleansed_Kensington and Chelsea</th> <td>   44.6205</td> <td>    1.037</td> <td>   43.014</td> <td> 0.000</td> <td>   42.587    46.654</td>\n",
       "</tr>\n",
       "<tr>\n",
       "  <th>neighbourhood_cleansed_Kingston upon Thames</th>   <td>   -3.7939</td> <td>    3.062</td> <td>   -1.239</td> <td> 0.215</td> <td>   -9.795     2.207</td>\n",
       "</tr>\n",
       "<tr>\n",
       "  <th>neighbourhood_cleansed_Lambeth</th>                <td>    4.3588</td> <td>    1.017</td> <td>    4.285</td> <td> 0.000</td> <td>    2.365     6.353</td>\n",
       "</tr>\n",
       "<tr>\n",
       "  <th>neighbourhood_cleansed_Lewisham</th>               <td>  -13.4267</td> <td>    1.475</td> <td>   -9.102</td> <td> 0.000</td> <td>  -16.318   -10.535</td>\n",
       "</tr>\n",
       "<tr>\n",
       "  <th>neighbourhood_cleansed_Merton</th>                 <td>    8.1982</td> <td>    1.892</td> <td>    4.333</td> <td> 0.000</td> <td>    4.489    11.907</td>\n",
       "</tr>\n",
       "<tr>\n",
       "  <th>neighbourhood_cleansed_Newham</th>                 <td>   -4.9696</td> <td>    1.617</td> <td>   -3.074</td> <td> 0.002</td> <td>   -8.138    -1.801</td>\n",
       "</tr>\n",
       "<tr>\n",
       "  <th>neighbourhood_cleansed_Redbridge</th>              <td>  -15.1731</td> <td>    3.063</td> <td>   -4.954</td> <td> 0.000</td> <td>  -21.176    -9.170</td>\n",
       "</tr>\n",
       "<tr>\n",
       "  <th>neighbourhood_cleansed_Richmond upon Thames</th>   <td>   14.3920</td> <td>    1.856</td> <td>    7.753</td> <td> 0.000</td> <td>   10.754    18.030</td>\n",
       "</tr>\n",
       "<tr>\n",
       "  <th>neighbourhood_cleansed_Southwark</th>              <td>    9.0962</td> <td>    1.017</td> <td>    8.943</td> <td> 0.000</td> <td>    7.103    11.090</td>\n",
       "</tr>\n",
       "<tr>\n",
       "  <th>neighbourhood_cleansed_Sutton</th>                 <td>  -13.9109</td> <td>    4.632</td> <td>   -3.003</td> <td> 0.003</td> <td>  -22.990    -4.831</td>\n",
       "</tr>\n",
       "<tr>\n",
       "  <th>neighbourhood_cleansed_Tower Hamlets</th>          <td>    3.4228</td> <td>    0.847</td> <td>    4.039</td> <td> 0.000</td> <td>    1.762     5.084</td>\n",
       "</tr>\n",
       "<tr>\n",
       "  <th>neighbourhood_cleansed_Waltham Forest</th>         <td>  -22.6143</td> <td>    1.917</td> <td>  -11.797</td> <td> 0.000</td> <td>  -26.372   -18.857</td>\n",
       "</tr>\n",
       "<tr>\n",
       "  <th>neighbourhood_cleansed_Wandsworth</th>             <td>   10.0264</td> <td>    1.123</td> <td>    8.929</td> <td> 0.000</td> <td>    7.826    12.227</td>\n",
       "</tr>\n",
       "<tr>\n",
       "  <th>neighbourhood_cleansed_Westminster</th>            <td>   43.3383</td> <td>    0.894</td> <td>   48.452</td> <td> 0.000</td> <td>   41.585    45.091</td>\n",
       "</tr>\n",
       "<tr>\n",
       "  <th>room_type_Entire home/apt</th>                     <td>   50.3403</td> <td>    1.161</td> <td>   43.347</td> <td> 0.000</td> <td>   48.064    52.617</td>\n",
       "</tr>\n",
       "<tr>\n",
       "  <th>room_type_Private room</th>                        <td>   -2.8978</td> <td>    1.125</td> <td>   -2.576</td> <td> 0.010</td> <td>   -5.103    -0.693</td>\n",
       "</tr>\n",
       "<tr>\n",
       "  <th>room_type_Shared room</th>                         <td>  -27.0880</td> <td>    1.715</td> <td>  -15.792</td> <td> 0.000</td> <td>  -30.450   -23.726</td>\n",
       "</tr>\n",
       "<tr>\n",
       "  <th>bed_type_Airbed</th>                               <td>    6.1375</td> <td>    4.875</td> <td>    1.259</td> <td> 0.208</td> <td>   -3.417    15.692</td>\n",
       "</tr>\n",
       "<tr>\n",
       "  <th>bed_type_Couch</th>                                <td>    5.2472</td> <td>    4.093</td> <td>    1.282</td> <td> 0.200</td> <td>   -2.775    13.270</td>\n",
       "</tr>\n",
       "<tr>\n",
       "  <th>bed_type_Futon</th>                                <td>    2.2025</td> <td>    2.843</td> <td>    0.775</td> <td> 0.438</td> <td>   -3.369     7.774</td>\n",
       "</tr>\n",
       "<tr>\n",
       "  <th>bed_type_Pull-out Sofa</th>                        <td>    1.5057</td> <td>    2.229</td> <td>    0.675</td> <td> 0.499</td> <td>   -2.863     5.875</td>\n",
       "</tr>\n",
       "<tr>\n",
       "  <th>bed_type_Real Bed</th>                             <td>    5.2616</td> <td>    1.606</td> <td>    3.276</td> <td> 0.001</td> <td>    2.114     8.409</td>\n",
       "</tr>\n",
       "</table>\n",
       "<table class=\"simpletable\">\n",
       "<tr>\n",
       "  <th>Omnibus:</th>       <td>8265.197</td> <th>  Durbin-Watson:     </th> <td>   2.008</td> \n",
       "</tr>\n",
       "<tr>\n",
       "  <th>Prob(Omnibus):</th>  <td> 0.000</td>  <th>  Jarque-Bera (JB):  </th> <td>37414.810</td>\n",
       "</tr>\n",
       "<tr>\n",
       "  <th>Skew:</th>           <td> 1.141</td>  <th>  Prob(JB):          </th> <td>    0.00</td> \n",
       "</tr>\n",
       "<tr>\n",
       "  <th>Kurtosis:</th>       <td> 7.654</td>  <th>  Cond. No.          </th> <td>3.30e+17</td> \n",
       "</tr>\n",
       "</table>"
      ],
      "text/plain": [
       "<class 'statsmodels.iolib.summary.Summary'>\n",
       "\"\"\"\n",
       "                            OLS Regression Results                            \n",
       "==============================================================================\n",
       "Dep. Variable:            Total_Price   R-squared:                       0.665\n",
       "Model:                            OLS   Adj. R-squared:                  0.664\n",
       "Method:                 Least Squares   F-statistic:                     986.0\n",
       "Date:                Sat, 29 Oct 2016   Prob (F-statistic):               0.00\n",
       "Time:                        14:43:55   Log-Likelihood:            -1.7306e+05\n",
       "No. Observations:               33417   AIC:                         3.463e+05\n",
       "Df Residuals:                   33349   BIC:                         3.468e+05\n",
       "Df Model:                          67                                         \n",
       "Covariance Type:            nonrobust                                         \n",
       "=================================================================================================================\n",
       "                                                    coef    std err          t      P>|t|      [95.0% Conf. Int.]\n",
       "-----------------------------------------------------------------------------------------------------------------\n",
       "const                                            20.3545      2.654      7.670      0.000        15.153    25.556\n",
       "accommodates                                      9.4591      0.283     33.372      0.000         8.904    10.015\n",
       "bathrooms                                        10.7711      0.501     21.479      0.000         9.788    11.754\n",
       "bedrooms                                         26.4198      0.500     52.820      0.000        25.439    27.400\n",
       "beds                                             -3.7375      0.379     -9.874      0.000        -4.479    -2.996\n",
       "minimum_nights                                   -0.0694      0.033     -2.100      0.036        -0.134    -0.005\n",
       "number_of_reviews                                -0.0370      0.014     -2.636      0.008        -0.064    -0.009\n",
       "review_scores_rating                              0.1637      0.041      3.979      0.000         0.083     0.244\n",
       "review_scores_accuracy                           -0.4021      0.393     -1.023      0.306        -1.173     0.369\n",
       "review_scores_cleanliness                         3.2230      0.331      9.748      0.000         2.575     3.871\n",
       "review_scores_checkin                            -2.0442      0.408     -5.013      0.000        -2.843    -1.245\n",
       "review_scores_communication                      -3.2544      0.412     -7.891      0.000        -4.063    -2.446\n",
       "review_scores_location                            4.1293      0.334     12.352      0.000         3.474     4.785\n",
       "review_scores_value                              -4.2733      0.421    -10.154      0.000        -5.098    -3.448\n",
       "reviews_per_month                                -3.5793      0.270    -13.272      0.000        -4.108    -3.051\n",
       "host_response_rate                               -9.5570      1.547     -6.178      0.000       -12.589    -6.525\n",
       "host_acceptance_rate                             -0.6083      0.852     -0.714      0.475        -2.279     1.063\n",
       "host_days                                         0.0048      0.000      9.645      0.000         0.004     0.006\n",
       "host_response_time                               -3.4235      0.430     -7.969      0.000        -4.266    -2.581\n",
       "host_is_superhost                                10.3136      1.043      9.887      0.000         8.269    12.358\n",
       "host_has_profile_pic                              6.4508      3.840      1.680      0.093        -1.076    13.978\n",
       "host_identity_verified                            4.0228      0.514      7.833      0.000         3.016     5.029\n",
       "instant_bookable                                  4.2719      0.693      6.166      0.000         2.914     5.630\n",
       "cancellation_policy                              -7.4314      0.303    -24.530      0.000        -8.025    -6.838\n",
       "require_guest_profile_picture                    -1.8806      2.070     -0.908      0.364        -5.938     2.177\n",
       "require_guest_phone_verification                 -0.0453      1.772     -0.026      0.980        -3.519     3.428\n",
       "experiences_offered_business                      9.0844      1.398      6.498      0.000         6.344    11.825\n",
       "experiences_offered_family                        0.7802      1.599      0.488      0.626        -2.355     3.915\n",
       "experiences_offered_none                         -0.0755      0.855     -0.088      0.930        -1.752     1.601\n",
       "experiences_offered_romantic                      8.3276      1.955      4.260      0.000         4.496    12.159\n",
       "experiences_offered_social                        2.2378      1.504      1.488      0.137        -0.710     5.186\n",
       "neighbourhood_cleansed_Barking and Dagenham     -20.4923      5.276     -3.884      0.000       -30.833   -10.152\n",
       "neighbourhood_cleansed_Barnet                    -5.1480      1.832     -2.811      0.005        -8.738    -1.558\n",
       "neighbourhood_cleansed_Bexley                   -22.1129      5.406     -4.090      0.000       -32.709   -11.517\n",
       "neighbourhood_cleansed_Brent                     -4.8551      1.484     -3.273      0.001        -7.763    -1.947\n",
       "neighbourhood_cleansed_Bromley                  -14.9930      2.756     -5.440      0.000       -20.395    -9.591\n",
       "neighbourhood_cleansed_Camden                    22.3399      0.978     22.844      0.000        20.423    24.257\n",
       "neighbourhood_cleansed_City of London            55.4545      2.752     20.154      0.000        50.061    60.848\n",
       "neighbourhood_cleansed_Croydon                  -15.0164      2.412     -6.225      0.000       -19.744   -10.289\n",
       "neighbourhood_cleansed_Ealing                    -1.2031      1.805     -0.667      0.505        -4.740     2.334\n",
       "neighbourhood_cleansed_Enfield                  -10.2008      3.016     -3.382      0.001       -16.113    -4.289\n",
       "neighbourhood_cleansed_Greenwich                 -5.0479      1.894     -2.665      0.008        -8.761    -1.335\n",
       "neighbourhood_cleansed_Hackney                    2.3991      0.893      2.686      0.007         0.649     4.150\n",
       "neighbourhood_cleansed_Hammersmith and Fulham    17.0170      1.097     15.511      0.000        14.867    19.167\n",
       "neighbourhood_cleansed_Haringey                 -10.7183      1.428     -7.504      0.000       -13.518    -7.919\n",
       "neighbourhood_cleansed_Harrow                    -9.6340      3.608     -2.670      0.008       -16.706    -2.562\n",
       "neighbourhood_cleansed_Havering                 -25.1828      5.361     -4.697      0.000       -35.691   -14.675\n",
       "neighbourhood_cleansed_Hillingdon               -10.8922      3.634     -2.997      0.003       -18.016    -3.769\n",
       "neighbourhood_cleansed_Hounslow                   3.4529      2.155      1.602      0.109        -0.771     7.677\n",
       "neighbourhood_cleansed_Islington                 11.6233      0.989     11.755      0.000         9.685    13.561\n",
       "neighbourhood_cleansed_Kensington and Chelsea    44.6205      1.037     43.014      0.000        42.587    46.654\n",
       "neighbourhood_cleansed_Kingston upon Thames      -3.7939      3.062     -1.239      0.215        -9.795     2.207\n",
       "neighbourhood_cleansed_Lambeth                    4.3588      1.017      4.285      0.000         2.365     6.353\n",
       "neighbourhood_cleansed_Lewisham                 -13.4267      1.475     -9.102      0.000       -16.318   -10.535\n",
       "neighbourhood_cleansed_Merton                     8.1982      1.892      4.333      0.000         4.489    11.907\n",
       "neighbourhood_cleansed_Newham                    -4.9696      1.617     -3.074      0.002        -8.138    -1.801\n",
       "neighbourhood_cleansed_Redbridge                -15.1731      3.063     -4.954      0.000       -21.176    -9.170\n",
       "neighbourhood_cleansed_Richmond upon Thames      14.3920      1.856      7.753      0.000        10.754    18.030\n",
       "neighbourhood_cleansed_Southwark                  9.0962      1.017      8.943      0.000         7.103    11.090\n",
       "neighbourhood_cleansed_Sutton                   -13.9109      4.632     -3.003      0.003       -22.990    -4.831\n",
       "neighbourhood_cleansed_Tower Hamlets              3.4228      0.847      4.039      0.000         1.762     5.084\n",
       "neighbourhood_cleansed_Waltham Forest           -22.6143      1.917    -11.797      0.000       -26.372   -18.857\n",
       "neighbourhood_cleansed_Wandsworth                10.0264      1.123      8.929      0.000         7.826    12.227\n",
       "neighbourhood_cleansed_Westminster               43.3383      0.894     48.452      0.000        41.585    45.091\n",
       "room_type_Entire home/apt                        50.3403      1.161     43.347      0.000        48.064    52.617\n",
       "room_type_Private room                           -2.8978      1.125     -2.576      0.010        -5.103    -0.693\n",
       "room_type_Shared room                           -27.0880      1.715    -15.792      0.000       -30.450   -23.726\n",
       "bed_type_Airbed                                   6.1375      4.875      1.259      0.208        -3.417    15.692\n",
       "bed_type_Couch                                    5.2472      4.093      1.282      0.200        -2.775    13.270\n",
       "bed_type_Futon                                    2.2025      2.843      0.775      0.438        -3.369     7.774\n",
       "bed_type_Pull-out Sofa                            1.5057      2.229      0.675      0.499        -2.863     5.875\n",
       "bed_type_Real Bed                                 5.2616      1.606      3.276      0.001         2.114     8.409\n",
       "==============================================================================\n",
       "Omnibus:                     8265.197   Durbin-Watson:                   2.008\n",
       "Prob(Omnibus):                  0.000   Jarque-Bera (JB):            37414.810\n",
       "Skew:                           1.141   Prob(JB):                         0.00\n",
       "Kurtosis:                       7.654   Cond. No.                     3.30e+17\n",
       "==============================================================================\n",
       "\n",
       "Warnings:\n",
       "[1] Standard Errors assume that the covariance matrix of the errors is correctly specified.\n",
       "[2] The smallest eigenvalue is 2.83e-25. This might indicate that there are\n",
       "strong multicollinearity problems or that the design matrix is singular.\n",
       "\"\"\""
      ]
     },
     "execution_count": 85,
     "metadata": {},
     "output_type": "execute_result"
    }
   ],
   "source": [
    "model.summary()"
   ]
  },
  {
   "cell_type": "markdown",
   "metadata": {
    "collapsed": true
   },
   "source": [
    "- Forward Stepwise Variable Selection"
   ]
  },
  {
   "cell_type": "code",
   "execution_count": 89,
   "metadata": {
    "collapsed": true
   },
   "outputs": [],
   "source": [
    "y = ['Total_Price']\n",
    "x = []\n",
    "n = X_train.shape[0]\n",
    "q = 1"
   ]
  },
  {
   "cell_type": "code",
   "execution_count": 97,
   "metadata": {
    "collapsed": false
   },
   "outputs": [
    {
     "name": "stdout",
     "output_type": "stream",
     "text": [
      "CPU times: user 3min 4s, sys: 37.3 s, total: 3min 41s\n",
      "Wall time: 1min 53s\n"
     ]
    }
   ],
   "source": [
    "%%time\n",
    "\n",
    "for i in range(X_train.shape[1]):\n",
    "    ## Prepare data for later use\n",
    "    Y_ols = y_train # Y for OLS\n",
    "    X_ols = sm.add_constant(X_train[x]) # X for OLS\n",
    "    p = len(x) \n",
    "    model0 = sm.OLS(Y_ols, X_ols).fit() \n",
    "    ssres0 = model0.ssr  # Get the original ssr\n",
    "    var_in_model = x.copy() # Get a list of variables already in the original OLS\n",
    "    score = []             # Define an empty list to store F-scores\n",
    "    \n",
    "    ## Start the variable selection\n",
    "    for var in X_train.drop(var_in_model, axis = 1).columns: # Get rid of the variables already in the original OLS\n",
    "        X_ols_plus = pd.concat([X_ols, X_train[var]], axis = 1)  # Construct new X by adding a new variable\n",
    "        model1 = sm.OLS(Y_ols, X_ols_plus).fit() \n",
    "        ssres1 = model1.ssr\n",
    "        F = (ssres0-ssres1)/q/(ssres1/(n-p-q-1)) # Calculate the F-value\n",
    "        score.append([var, F]) # Store the variable and its F-value in a list\n",
    "    highest_F = sorted(score, key = lambda x:x[1], reverse = True)[0] # Find the highest F-value\n",
    "    if highest_F[1] > 2.07:  ## Maybe change the threshold here\n",
    "        x.append(highest_F[0])\n",
    "    else:\n",
    "        break"
   ]
  },
  {
   "cell_type": "code",
   "execution_count": 102,
   "metadata": {
    "collapsed": false
   },
   "outputs": [],
   "source": [
    "model_vs = sm.OLS(y_train, sm.add_constant(X_train[x])).fit()"
   ]
  },
  {
   "cell_type": "code",
   "execution_count": 107,
   "metadata": {
    "collapsed": false
   },
   "outputs": [
    {
     "data": {
      "text/plain": [
       "1874.7981160095849"
      ]
     },
     "execution_count": 107,
     "metadata": {},
     "output_type": "execute_result"
    }
   ],
   "source": [
    "mse_vs = mean_squared_error(y_test, model_vs.predict(sm.add_constant(X_test[x])))\n",
    "mse_vs \n",
    "## Model performance is the same as non variable selection model"
   ]
  },
  {
   "cell_type": "code",
   "execution_count": 108,
   "metadata": {
    "collapsed": false
   },
   "outputs": [
    {
     "data": {
      "text/html": [
       "<table class=\"simpletable\">\n",
       "<caption>OLS Regression Results</caption>\n",
       "<tr>\n",
       "  <th>Dep. Variable:</th>       <td>Total_Price</td>   <th>  R-squared:         </th>  <td>   0.664</td>  \n",
       "</tr>\n",
       "<tr>\n",
       "  <th>Model:</th>                   <td>OLS</td>       <th>  Adj. R-squared:    </th>  <td>   0.664</td>  \n",
       "</tr>\n",
       "<tr>\n",
       "  <th>Method:</th>             <td>Least Squares</td>  <th>  F-statistic:       </th>  <td>   1246.</td>  \n",
       "</tr>\n",
       "<tr>\n",
       "  <th>Date:</th>             <td>Sat, 29 Oct 2016</td> <th>  Prob (F-statistic):</th>   <td>  0.00</td>   \n",
       "</tr>\n",
       "<tr>\n",
       "  <th>Time:</th>                 <td>15:15:10</td>     <th>  Log-Likelihood:    </th> <td>-1.7306e+05</td>\n",
       "</tr>\n",
       "<tr>\n",
       "  <th>No. Observations:</th>      <td> 33417</td>      <th>  AIC:               </th>  <td>3.462e+05</td> \n",
       "</tr>\n",
       "<tr>\n",
       "  <th>Df Residuals:</th>          <td> 33363</td>      <th>  BIC:               </th>  <td>3.467e+05</td> \n",
       "</tr>\n",
       "<tr>\n",
       "  <th>Df Model:</th>              <td>    53</td>      <th>                     </th>      <td> </td>     \n",
       "</tr>\n",
       "<tr>\n",
       "  <th>Covariance Type:</th>      <td>nonrobust</td>    <th>                     </th>      <td> </td>     \n",
       "</tr>\n",
       "</table>\n",
       "<table class=\"simpletable\">\n",
       "<tr>\n",
       "                        <td></td>                           <th>coef</th>     <th>std err</th>      <th>t</th>      <th>P>|t|</th> <th>[95.0% Conf. Int.]</th> \n",
       "</tr>\n",
       "<tr>\n",
       "  <th>const</th>                                         <td>   -9.4404</td> <td>    4.926</td> <td>   -1.916</td> <td> 0.055</td> <td>  -19.096     0.215</td>\n",
       "</tr>\n",
       "<tr>\n",
       "  <th>room_type_Entire home/apt</th>                     <td>   77.0716</td> <td>    2.144</td> <td>   35.942</td> <td> 0.000</td> <td>   72.869    81.275</td>\n",
       "</tr>\n",
       "<tr>\n",
       "  <th>bedrooms</th>                                      <td>   26.4499</td> <td>    0.499</td> <td>   53.025</td> <td> 0.000</td> <td>   25.472    27.428</td>\n",
       "</tr>\n",
       "<tr>\n",
       "  <th>neighbourhood_cleansed_Westminster</th>            <td>   48.4757</td> <td>    1.118</td> <td>   43.361</td> <td> 0.000</td> <td>   46.284    50.667</td>\n",
       "</tr>\n",
       "<tr>\n",
       "  <th>neighbourhood_cleansed_Kensington and Chelsea</th> <td>   49.7742</td> <td>    1.243</td> <td>   40.038</td> <td> 0.000</td> <td>   47.338    52.211</td>\n",
       "</tr>\n",
       "<tr>\n",
       "  <th>accommodates</th>                                  <td>    9.4628</td> <td>    0.283</td> <td>   33.437</td> <td> 0.000</td> <td>    8.908    10.017</td>\n",
       "</tr>\n",
       "<tr>\n",
       "  <th>cancellation_policy</th>                           <td>   -7.4321</td> <td>    0.302</td> <td>  -24.595</td> <td> 0.000</td> <td>   -8.024    -6.840</td>\n",
       "</tr>\n",
       "<tr>\n",
       "  <th>review_scores_communication</th>                   <td>   -3.2569</td> <td>    0.412</td> <td>   -7.903</td> <td> 0.000</td> <td>   -4.065    -2.449</td>\n",
       "</tr>\n",
       "<tr>\n",
       "  <th>neighbourhood_cleansed_Camden</th>                 <td>   27.4906</td> <td>    1.190</td> <td>   23.093</td> <td> 0.000</td> <td>   25.157    29.824</td>\n",
       "</tr>\n",
       "<tr>\n",
       "  <th>bathrooms</th>                                     <td>   10.7796</td> <td>    0.501</td> <td>   21.517</td> <td> 0.000</td> <td>    9.798    11.762</td>\n",
       "</tr>\n",
       "<tr>\n",
       "  <th>neighbourhood_cleansed_City of London</th>         <td>   60.5708</td> <td>    2.905</td> <td>   20.849</td> <td> 0.000</td> <td>   54.877    66.265</td>\n",
       "</tr>\n",
       "<tr>\n",
       "  <th>room_type_Private room</th>                        <td>   23.8943</td> <td>    2.116</td> <td>   11.292</td> <td> 0.000</td> <td>   19.747    28.042</td>\n",
       "</tr>\n",
       "<tr>\n",
       "  <th>neighbourhood_cleansed_Hammersmith and Fulham</th> <td>   22.1832</td> <td>    1.293</td> <td>   17.159</td> <td> 0.000</td> <td>   19.649    24.717</td>\n",
       "</tr>\n",
       "<tr>\n",
       "  <th>host_days</th>                                     <td>    0.0047</td> <td>    0.000</td> <td>    9.787</td> <td> 0.000</td> <td>    0.004     0.006</td>\n",
       "</tr>\n",
       "<tr>\n",
       "  <th>neighbourhood_cleansed_Waltham Forest</th>         <td>  -17.5282</td> <td>    2.072</td> <td>   -8.461</td> <td> 0.000</td> <td>  -21.589   -13.468</td>\n",
       "</tr>\n",
       "<tr>\n",
       "  <th>review_scores_location</th>                        <td>    4.0858</td> <td>    0.331</td> <td>   12.333</td> <td> 0.000</td> <td>    3.436     4.735</td>\n",
       "</tr>\n",
       "<tr>\n",
       "  <th>reviews_per_month</th>                             <td>   -3.6108</td> <td>    0.266</td> <td>  -13.582</td> <td> 0.000</td> <td>   -4.132    -3.090</td>\n",
       "</tr>\n",
       "<tr>\n",
       "  <th>beds</th>                                          <td>   -3.7345</td> <td>    0.377</td> <td>   -9.905</td> <td> 0.000</td> <td>   -4.473    -2.995</td>\n",
       "</tr>\n",
       "<tr>\n",
       "  <th>neighbourhood_cleansed_Islington</th>              <td>   16.7734</td> <td>    1.197</td> <td>   14.007</td> <td> 0.000</td> <td>   14.426    19.121</td>\n",
       "</tr>\n",
       "<tr>\n",
       "  <th>host_is_superhost</th>                             <td>   10.3204</td> <td>    1.042</td> <td>    9.903</td> <td> 0.000</td> <td>    8.278    12.363</td>\n",
       "</tr>\n",
       "<tr>\n",
       "  <th>neighbourhood_cleansed_Lewisham</th>               <td>   -8.2860</td> <td>    1.642</td> <td>   -5.047</td> <td> 0.000</td> <td>  -11.504    -5.068</td>\n",
       "</tr>\n",
       "<tr>\n",
       "  <th>host_identity_verified</th>                        <td>    4.0477</td> <td>    0.513</td> <td>    7.895</td> <td> 0.000</td> <td>    3.043     5.053</td>\n",
       "</tr>\n",
       "<tr>\n",
       "  <th>neighbourhood_cleansed_Haringey</th>               <td>   -5.5437</td> <td>    1.597</td> <td>   -3.470</td> <td> 0.001</td> <td>   -8.675    -2.413</td>\n",
       "</tr>\n",
       "<tr>\n",
       "  <th>instant_bookable</th>                              <td>    4.2225</td> <td>    0.689</td> <td>    6.124</td> <td> 0.000</td> <td>    2.871     5.574</td>\n",
       "</tr>\n",
       "<tr>\n",
       "  <th>review_scores_value</th>                           <td>   -4.3785</td> <td>    0.409</td> <td>  -10.698</td> <td> 0.000</td> <td>   -5.181    -3.576</td>\n",
       "</tr>\n",
       "<tr>\n",
       "  <th>review_scores_cleanliness</th>                     <td>    3.1268</td> <td>    0.318</td> <td>    9.846</td> <td> 0.000</td> <td>    2.504     3.749</td>\n",
       "</tr>\n",
       "<tr>\n",
       "  <th>neighbourhood_cleansed_Wandsworth</th>             <td>   15.1611</td> <td>    1.315</td> <td>   11.527</td> <td> 0.000</td> <td>   12.583    17.739</td>\n",
       "</tr>\n",
       "<tr>\n",
       "  <th>neighbourhood_cleansed_Southwark</th>              <td>   14.2443</td> <td>    1.220</td> <td>   11.677</td> <td> 0.000</td> <td>   11.853    16.635</td>\n",
       "</tr>\n",
       "<tr>\n",
       "  <th>neighbourhood_cleansed_Richmond upon Thames</th>   <td>   19.5653</td> <td>    2.014</td> <td>    9.712</td> <td> 0.000</td> <td>   15.617    23.514</td>\n",
       "</tr>\n",
       "<tr>\n",
       "  <th>neighbourhood_cleansed_Croydon</th>                <td>   -9.8301</td> <td>    2.562</td> <td>   -3.837</td> <td> 0.000</td> <td>  -14.852    -4.808</td>\n",
       "</tr>\n",
       "<tr>\n",
       "  <th>experiences_offered_business</th>                  <td>    8.9878</td> <td>    1.459</td> <td>    6.161</td> <td> 0.000</td> <td>    6.128    11.847</td>\n",
       "</tr>\n",
       "<tr>\n",
       "  <th>review_scores_checkin</th>                         <td>   -2.1507</td> <td>    0.393</td> <td>   -5.479</td> <td> 0.000</td> <td>   -2.920    -1.381</td>\n",
       "</tr>\n",
       "<tr>\n",
       "  <th>neighbourhood_cleansed_Bromley</th>                <td>   -9.8468</td> <td>    2.910</td> <td>   -3.384</td> <td> 0.001</td> <td>  -15.550    -4.144</td>\n",
       "</tr>\n",
       "<tr>\n",
       "  <th>neighbourhood_cleansed_Redbridge</th>              <td>  -10.0722</td> <td>    3.219</td> <td>   -3.129</td> <td> 0.002</td> <td>  -16.381    -3.764</td>\n",
       "</tr>\n",
       "<tr>\n",
       "  <th>host_response_time</th>                            <td>   -3.3577</td> <td>    0.421</td> <td>   -7.973</td> <td> 0.000</td> <td>   -4.183    -2.532</td>\n",
       "</tr>\n",
       "<tr>\n",
       "  <th>host_response_rate</th>                            <td>   -9.7854</td> <td>    1.517</td> <td>   -6.451</td> <td> 0.000</td> <td>  -12.758    -6.812</td>\n",
       "</tr>\n",
       "<tr>\n",
       "  <th>neighbourhood_cleansed_Havering</th>               <td>  -19.9517</td> <td>    5.562</td> <td>   -3.587</td> <td> 0.000</td> <td>  -30.854    -9.050</td>\n",
       "</tr>\n",
       "<tr>\n",
       "  <th>neighbourhood_cleansed_Tower Hamlets</th>          <td>    8.5568</td> <td>    1.073</td> <td>    7.975</td> <td> 0.000</td> <td>    6.454    10.660</td>\n",
       "</tr>\n",
       "<tr>\n",
       "  <th>neighbourhood_cleansed_Lambeth</th>                <td>    9.4971</td> <td>    1.220</td> <td>    7.786</td> <td> 0.000</td> <td>    7.106    11.888</td>\n",
       "</tr>\n",
       "<tr>\n",
       "  <th>neighbourhood_cleansed_Hackney</th>                <td>    7.5610</td> <td>    1.112</td> <td>    6.801</td> <td> 0.000</td> <td>    5.382     9.740</td>\n",
       "</tr>\n",
       "<tr>\n",
       "  <th>neighbourhood_cleansed_Merton</th>                 <td>   13.3600</td> <td>    2.049</td> <td>    6.521</td> <td> 0.000</td> <td>    9.345    17.375</td>\n",
       "</tr>\n",
       "<tr>\n",
       "  <th>neighbourhood_cleansed_Hounslow</th>               <td>    8.5551</td> <td>    2.308</td> <td>    3.707</td> <td> 0.000</td> <td>    4.032    13.079</td>\n",
       "</tr>\n",
       "<tr>\n",
       "  <th>review_scores_rating</th>                          <td>    0.1587</td> <td>    0.041</td> <td>    3.885</td> <td> 0.000</td> <td>    0.079     0.239</td>\n",
       "</tr>\n",
       "<tr>\n",
       "  <th>experiences_offered_romantic</th>                  <td>    8.3351</td> <td>    2.239</td> <td>    3.723</td> <td> 0.000</td> <td>    3.947    12.723</td>\n",
       "</tr>\n",
       "<tr>\n",
       "  <th>neighbourhood_cleansed_Bexley</th>                 <td>  -16.9371</td> <td>    5.607</td> <td>   -3.021</td> <td> 0.003</td> <td>  -27.927    -5.947</td>\n",
       "</tr>\n",
       "<tr>\n",
       "  <th>neighbourhood_cleansed_Barking and Dagenham</th>   <td>  -15.3261</td> <td>    5.474</td> <td>   -2.800</td> <td> 0.005</td> <td>  -26.056    -4.597</td>\n",
       "</tr>\n",
       "<tr>\n",
       "  <th>number_of_reviews</th>                             <td>   -0.0365</td> <td>    0.014</td> <td>   -2.663</td> <td> 0.008</td> <td>   -0.063    -0.010</td>\n",
       "</tr>\n",
       "<tr>\n",
       "  <th>neighbourhood_cleansed_Ealing</th>                 <td>    3.8927</td> <td>    1.961</td> <td>    1.985</td> <td> 0.047</td> <td>    0.049     7.737</td>\n",
       "</tr>\n",
       "<tr>\n",
       "  <th>minimum_nights</th>                                <td>   -0.0692</td> <td>    0.033</td> <td>   -2.096</td> <td> 0.036</td> <td>   -0.134    -0.004</td>\n",
       "</tr>\n",
       "<tr>\n",
       "  <th>bed_type_Real Bed</th>                             <td>    2.8241</td> <td>    1.554</td> <td>    1.817</td> <td> 0.069</td> <td>   -0.222     5.870</td>\n",
       "</tr>\n",
       "<tr>\n",
       "  <th>neighbourhood_cleansed_Sutton</th>                 <td>   -8.7121</td> <td>    4.815</td> <td>   -1.809</td> <td> 0.070</td> <td>  -18.150     0.726</td>\n",
       "</tr>\n",
       "<tr>\n",
       "  <th>host_has_profile_pic</th>                          <td>    6.3986</td> <td>    3.839</td> <td>    1.667</td> <td> 0.096</td> <td>   -1.125    13.923</td>\n",
       "</tr>\n",
       "<tr>\n",
       "  <th>neighbourhood_cleansed_Enfield</th>                <td>   -5.0100</td> <td>    3.171</td> <td>   -1.580</td> <td> 0.114</td> <td>  -11.225     1.205</td>\n",
       "</tr>\n",
       "<tr>\n",
       "  <th>neighbourhood_cleansed_Hillingdon</th>             <td>   -5.7475</td> <td>    3.798</td> <td>   -1.513</td> <td> 0.130</td> <td>  -13.191     1.696</td>\n",
       "</tr>\n",
       "</table>\n",
       "<table class=\"simpletable\">\n",
       "<tr>\n",
       "  <th>Omnibus:</th>       <td>8258.317</td> <th>  Durbin-Watson:     </th> <td>   2.008</td> \n",
       "</tr>\n",
       "<tr>\n",
       "  <th>Prob(Omnibus):</th>  <td> 0.000</td>  <th>  Jarque-Bera (JB):  </th> <td>37393.420</td>\n",
       "</tr>\n",
       "<tr>\n",
       "  <th>Skew:</th>           <td> 1.140</td>  <th>  Prob(JB):          </th> <td>    0.00</td> \n",
       "</tr>\n",
       "<tr>\n",
       "  <th>Kurtosis:</th>       <td> 7.653</td>  <th>  Cond. No.          </th> <td>2.49e+04</td> \n",
       "</tr>\n",
       "</table>"
      ],
      "text/plain": [
       "<class 'statsmodels.iolib.summary.Summary'>\n",
       "\"\"\"\n",
       "                            OLS Regression Results                            \n",
       "==============================================================================\n",
       "Dep. Variable:            Total_Price   R-squared:                       0.664\n",
       "Model:                            OLS   Adj. R-squared:                  0.664\n",
       "Method:                 Least Squares   F-statistic:                     1246.\n",
       "Date:                Sat, 29 Oct 2016   Prob (F-statistic):               0.00\n",
       "Time:                        15:15:10   Log-Likelihood:            -1.7306e+05\n",
       "No. Observations:               33417   AIC:                         3.462e+05\n",
       "Df Residuals:                   33363   BIC:                         3.467e+05\n",
       "Df Model:                          53                                         \n",
       "Covariance Type:            nonrobust                                         \n",
       "=================================================================================================================\n",
       "                                                    coef    std err          t      P>|t|      [95.0% Conf. Int.]\n",
       "-----------------------------------------------------------------------------------------------------------------\n",
       "const                                            -9.4404      4.926     -1.916      0.055       -19.096     0.215\n",
       "room_type_Entire home/apt                        77.0716      2.144     35.942      0.000        72.869    81.275\n",
       "bedrooms                                         26.4499      0.499     53.025      0.000        25.472    27.428\n",
       "neighbourhood_cleansed_Westminster               48.4757      1.118     43.361      0.000        46.284    50.667\n",
       "neighbourhood_cleansed_Kensington and Chelsea    49.7742      1.243     40.038      0.000        47.338    52.211\n",
       "accommodates                                      9.4628      0.283     33.437      0.000         8.908    10.017\n",
       "cancellation_policy                              -7.4321      0.302    -24.595      0.000        -8.024    -6.840\n",
       "review_scores_communication                      -3.2569      0.412     -7.903      0.000        -4.065    -2.449\n",
       "neighbourhood_cleansed_Camden                    27.4906      1.190     23.093      0.000        25.157    29.824\n",
       "bathrooms                                        10.7796      0.501     21.517      0.000         9.798    11.762\n",
       "neighbourhood_cleansed_City of London            60.5708      2.905     20.849      0.000        54.877    66.265\n",
       "room_type_Private room                           23.8943      2.116     11.292      0.000        19.747    28.042\n",
       "neighbourhood_cleansed_Hammersmith and Fulham    22.1832      1.293     17.159      0.000        19.649    24.717\n",
       "host_days                                         0.0047      0.000      9.787      0.000         0.004     0.006\n",
       "neighbourhood_cleansed_Waltham Forest           -17.5282      2.072     -8.461      0.000       -21.589   -13.468\n",
       "review_scores_location                            4.0858      0.331     12.333      0.000         3.436     4.735\n",
       "reviews_per_month                                -3.6108      0.266    -13.582      0.000        -4.132    -3.090\n",
       "beds                                             -3.7345      0.377     -9.905      0.000        -4.473    -2.995\n",
       "neighbourhood_cleansed_Islington                 16.7734      1.197     14.007      0.000        14.426    19.121\n",
       "host_is_superhost                                10.3204      1.042      9.903      0.000         8.278    12.363\n",
       "neighbourhood_cleansed_Lewisham                  -8.2860      1.642     -5.047      0.000       -11.504    -5.068\n",
       "host_identity_verified                            4.0477      0.513      7.895      0.000         3.043     5.053\n",
       "neighbourhood_cleansed_Haringey                  -5.5437      1.597     -3.470      0.001        -8.675    -2.413\n",
       "instant_bookable                                  4.2225      0.689      6.124      0.000         2.871     5.574\n",
       "review_scores_value                              -4.3785      0.409    -10.698      0.000        -5.181    -3.576\n",
       "review_scores_cleanliness                         3.1268      0.318      9.846      0.000         2.504     3.749\n",
       "neighbourhood_cleansed_Wandsworth                15.1611      1.315     11.527      0.000        12.583    17.739\n",
       "neighbourhood_cleansed_Southwark                 14.2443      1.220     11.677      0.000        11.853    16.635\n",
       "neighbourhood_cleansed_Richmond upon Thames      19.5653      2.014      9.712      0.000        15.617    23.514\n",
       "neighbourhood_cleansed_Croydon                   -9.8301      2.562     -3.837      0.000       -14.852    -4.808\n",
       "experiences_offered_business                      8.9878      1.459      6.161      0.000         6.128    11.847\n",
       "review_scores_checkin                            -2.1507      0.393     -5.479      0.000        -2.920    -1.381\n",
       "neighbourhood_cleansed_Bromley                   -9.8468      2.910     -3.384      0.001       -15.550    -4.144\n",
       "neighbourhood_cleansed_Redbridge                -10.0722      3.219     -3.129      0.002       -16.381    -3.764\n",
       "host_response_time                               -3.3577      0.421     -7.973      0.000        -4.183    -2.532\n",
       "host_response_rate                               -9.7854      1.517     -6.451      0.000       -12.758    -6.812\n",
       "neighbourhood_cleansed_Havering                 -19.9517      5.562     -3.587      0.000       -30.854    -9.050\n",
       "neighbourhood_cleansed_Tower Hamlets              8.5568      1.073      7.975      0.000         6.454    10.660\n",
       "neighbourhood_cleansed_Lambeth                    9.4971      1.220      7.786      0.000         7.106    11.888\n",
       "neighbourhood_cleansed_Hackney                    7.5610      1.112      6.801      0.000         5.382     9.740\n",
       "neighbourhood_cleansed_Merton                    13.3600      2.049      6.521      0.000         9.345    17.375\n",
       "neighbourhood_cleansed_Hounslow                   8.5551      2.308      3.707      0.000         4.032    13.079\n",
       "review_scores_rating                              0.1587      0.041      3.885      0.000         0.079     0.239\n",
       "experiences_offered_romantic                      8.3351      2.239      3.723      0.000         3.947    12.723\n",
       "neighbourhood_cleansed_Bexley                   -16.9371      5.607     -3.021      0.003       -27.927    -5.947\n",
       "neighbourhood_cleansed_Barking and Dagenham     -15.3261      5.474     -2.800      0.005       -26.056    -4.597\n",
       "number_of_reviews                                -0.0365      0.014     -2.663      0.008        -0.063    -0.010\n",
       "neighbourhood_cleansed_Ealing                     3.8927      1.961      1.985      0.047         0.049     7.737\n",
       "minimum_nights                                   -0.0692      0.033     -2.096      0.036        -0.134    -0.004\n",
       "bed_type_Real Bed                                 2.8241      1.554      1.817      0.069        -0.222     5.870\n",
       "neighbourhood_cleansed_Sutton                    -8.7121      4.815     -1.809      0.070       -18.150     0.726\n",
       "host_has_profile_pic                              6.3986      3.839      1.667      0.096        -1.125    13.923\n",
       "neighbourhood_cleansed_Enfield                   -5.0100      3.171     -1.580      0.114       -11.225     1.205\n",
       "neighbourhood_cleansed_Hillingdon                -5.7475      3.798     -1.513      0.130       -13.191     1.696\n",
       "==============================================================================\n",
       "Omnibus:                     8258.317   Durbin-Watson:                   2.008\n",
       "Prob(Omnibus):                  0.000   Jarque-Bera (JB):            37393.420\n",
       "Skew:                           1.140   Prob(JB):                         0.00\n",
       "Kurtosis:                       7.653   Cond. No.                     2.49e+04\n",
       "==============================================================================\n",
       "\n",
       "Warnings:\n",
       "[1] Standard Errors assume that the covariance matrix of the errors is correctly specified.\n",
       "[2] The condition number is large, 2.49e+04. This might indicate that there are\n",
       "strong multicollinearity or other numerical problems.\n",
       "\"\"\""
      ]
     },
     "execution_count": 108,
     "metadata": {},
     "output_type": "execute_result"
    }
   ],
   "source": [
    "model_vs.summary()"
   ]
  },
  {
   "cell_type": "code",
   "execution_count": null,
   "metadata": {
    "collapsed": true
   },
   "outputs": [],
   "source": []
  },
  {
   "cell_type": "code",
   "execution_count": null,
   "metadata": {
    "collapsed": true
   },
   "outputs": [],
   "source": []
  },
  {
   "cell_type": "markdown",
   "metadata": {},
   "source": [
    "### Regularized Linear Models\n",
    "- https://www.kaggle.com/apapiu/house-prices-advanced-regression-techniques/regularized-linear-models/comments"
   ]
  },
  {
   "cell_type": "code",
   "execution_count": null,
   "metadata": {
    "collapsed": true
   },
   "outputs": [],
   "source": []
  },
  {
   "cell_type": "code",
   "execution_count": 109,
   "metadata": {
    "collapsed": true
   },
   "outputs": [],
   "source": [
    "from sklearn.linear_model import Ridge, RidgeCV, ElasticNet, LassoCV, LassoLarsCV, Lasso\n",
    "from sklearn.model_selection import cross_val_score"
   ]
  },
  {
   "cell_type": "code",
   "execution_count": 127,
   "metadata": {
    "collapsed": true
   },
   "outputs": [],
   "source": [
    "def rmse_cv(model):\n",
    "    rmse= - cross_val_score(model, X_train, y_train, scoring=\"neg_mean_squared_error\", cv = 10)\n",
    "    return(rmse)"
   ]
  },
  {
   "cell_type": "markdown",
   "metadata": {},
   "source": [
    "#### Ridge"
   ]
  },
  {
   "cell_type": "code",
   "execution_count": 128,
   "metadata": {
    "collapsed": false
   },
   "outputs": [
    {
     "data": {
      "text/plain": [
       "array([ 1869.21102117,  1927.65107608,  1853.22560932,  1750.81283858,\n",
       "        1790.77451626,  1957.93111831,  1844.94640028,  1864.09859837,\n",
       "        1855.40375768,  1803.45426074])"
      ]
     },
     "execution_count": 128,
     "metadata": {},
     "output_type": "execute_result"
    }
   ],
   "source": [
    "rmse_cv(Ridge())"
   ]
  },
  {
   "cell_type": "code",
   "execution_count": 129,
   "metadata": {
    "collapsed": false
   },
   "outputs": [
    {
     "name": "stdout",
     "output_type": "stream",
     "text": [
      "CPU times: user 11.6 s, sys: 1.21 s, total: 12.8 s\n",
      "Wall time: 6.67 s\n"
     ]
    }
   ],
   "source": [
    "%%time\n",
    "alphas = [0.05, 0.1, 0.3, 1, 3, 5, 10, 15, 30, 50, 75]\n",
    "cv_ridge = [rmse_cv(Ridge(alpha = a)).mean() for a in alphas]"
   ]
  },
  {
   "cell_type": "code",
   "execution_count": 130,
   "metadata": {
    "collapsed": false
   },
   "outputs": [
    {
     "data": {
      "text/plain": [
       "<matplotlib.text.Text at 0x11b881ef0>"
      ]
     },
     "execution_count": 130,
     "metadata": {},
     "output_type": "execute_result"
    },
    {
     "data": {
      "image/png": "[encoded data removed]",
      "text/plain": [
       "<matplotlib.figure.Figure at 0x11857cba8>"
      ]
     },
     "metadata": {},
     "output_type": "display_data"
    }
   ],
   "source": [
    "cv_ridge = pd.Series(cv_ridge, index = alphas)\n",
    "cv_ridge.plot(title = \"Validation - Ridge\")\n",
    "plt.xlabel(\"alpha\")\n",
    "plt.ylabel(\"rmse\")"
   ]
  },
  {
   "cell_type": "code",
   "execution_count": 138,
   "metadata": {
    "collapsed": false
   },
   "outputs": [
    {
     "name": "stdout",
     "output_type": "stream",
     "text": [
      "CPU times: user 1min 34s, sys: 9.68 s, total: 1min 44s\n",
      "Wall time: 53.6 s\n"
     ]
    }
   ],
   "source": [
    "%%time\n",
    "alphas2 = np.arange(1, 10, 0.1)\n",
    "cv_ridge2 = [rmse_cv(Ridge(alpha = a)).mean() for a in alphas2]"
   ]
  },
  {
   "cell_type": "code",
   "execution_count": 139,
   "metadata": {
    "collapsed": false
   },
   "outputs": [
    {
     "data": {
      "text/plain": [
       "<matplotlib.text.Text at 0x1187b9908>"
      ]
     },
     "execution_count": 139,
     "metadata": {},
     "output_type": "execute_result"
    },
    {
     "data": {
      "image/png": "[encoded data removed]",
      "text/plain": [
       "<matplotlib.figure.Figure at 0x1187c5588>"
      ]
     },
     "metadata": {},
     "output_type": "display_data"
    }
   ],
   "source": [
    "cv_ridge = pd.Series(cv_ridge2, index = alphas2)\n",
    "cv_ridge.plot(title = \"Validation - Ridge\")\n",
    "plt.xlabel(\"alpha\")\n",
    "plt.ylabel(\"rmse\")"
   ]
  },
  {
   "cell_type": "code",
   "execution_count": 145,
   "metadata": {
    "collapsed": false
   },
   "outputs": [
    {
     "name": "stdout",
     "output_type": "stream",
     "text": [
      "The smallest MSE is 1851.7445 given by alpha 4.20\n"
     ]
    }
   ],
   "source": [
    "print('The smallest MSE is %.4f given by alpha %.2f' % (cv_ridge.mean(), cv_ridge.argmin()) )"
   ]
  },
  {
   "cell_type": "code",
   "execution_count": 146,
   "metadata": {
    "collapsed": false
   },
   "outputs": [
    {
     "data": {
      "text/plain": [
       "1874.0126798532963"
      ]
     },
     "execution_count": 146,
     "metadata": {},
     "output_type": "execute_result"
    }
   ],
   "source": [
    "model_ridge = Ridge(alpha = 4.2)\n",
    "mse_ridge = mean_squared_error(y_test, model_ridge.fit(X_train, y_train).predict(X_test))\n",
    "mse_ridge"
   ]
  },
  {
   "cell_type": "markdown",
   "metadata": {},
   "source": [
    "#### Lasso"
   ]
  },
  {
   "cell_type": "code",
   "execution_count": 148,
   "metadata": {
    "collapsed": false
   },
   "outputs": [
    {
     "name": "stdout",
     "output_type": "stream",
     "text": [
      "CPU times: user 2min 34s, sys: 3.83 s, total: 2min 38s\n",
      "Wall time: 1min 26s\n"
     ]
    }
   ],
   "source": [
    "%%time\n",
    "alphas = [0.05, 0.1, 0.3, 1, 3, 5, 10, 15, 30, 50, 75]\n",
    "cv_lasso = [rmse_cv(Lasso(alpha = a)).mean() for a in alphas]"
   ]
  },
  {
   "cell_type": "code",
   "execution_count": 149,
   "metadata": {
    "collapsed": false
   },
   "outputs": [
    {
     "data": {
      "text/plain": [
       "<matplotlib.text.Text at 0x11c5486d8>"
      ]
     },
     "execution_count": 149,
     "metadata": {},
     "output_type": "execute_result"
    },
    {
     "data": {
      "image/png": "[encoded data removed]",
      "text/plain": [
       "<matplotlib.figure.Figure at 0x11a563860>"
      ]
     },
     "metadata": {},
     "output_type": "display_data"
    }
   ],
   "source": [
    "cv_lasso = pd.Series(cv_lasso, index = alphas)\n",
    "cv_lasso.plot(title = \"Validation - Lasso\")\n",
    "plt.xlabel(\"alpha\")\n",
    "plt.ylabel(\"rmse\")"
   ]
  },
  {
   "cell_type": "code",
   "execution_count": null,
   "metadata": {
    "collapsed": false
   },
   "outputs": [],
   "source": []
  },
  {
   "cell_type": "code",
   "execution_count": null,
   "metadata": {
    "collapsed": false
   },
   "outputs": [],
   "source": []
  },
  {
   "cell_type": "markdown",
   "metadata": {},
   "source": [
    "### RandomForestRegressor\n",
    "- https://www.kaggle.com/dfitzgerald3/house-prices-advanced-regression-techniques/randomforestregressor/comments"
   ]
  },
  {
   "cell_type": "code",
   "execution_count": 150,
   "metadata": {
    "collapsed": true
   },
   "outputs": [],
   "source": [
    "from sklearn.ensemble import RandomForestRegressor"
   ]
  },
  {
   "cell_type": "code",
   "execution_count": 153,
   "metadata": {
    "collapsed": false
   },
   "outputs": [
    {
     "name": "stdout",
     "output_type": "stream",
     "text": [
      "CPU times: user 8min 53s, sys: 11.9 s, total: 9min 5s\n",
      "Wall time: 3min 46s\n"
     ]
    }
   ],
   "source": [
    "%%time\n",
    "from sklearn.metrics import make_scorer, mean_squared_error\n",
    "scorer = make_scorer(mean_squared_error, False)\n",
    "\n",
    "clf = RandomForestRegressor(n_estimators=100, n_jobs=-1)\n",
    "cv_score = -cross_val_score(estimator=clf, X=X_train, y=y_train, cv=10, scoring = scorer)\n",
    "## Took about 9 minutes"
   ]
  },
  {
   "cell_type": "code",
   "execution_count": 154,
   "metadata": {
    "collapsed": false
   },
   "outputs": [
    {
     "data": {
      "image/png": "[encoded data removed]",
      "text/plain": [
       "<matplotlib.figure.Figure at 0x11a5a88d0>"
      ]
     },
     "metadata": {},
     "output_type": "display_data"
    }
   ],
   "source": [
    "plt.figure(figsize=(10,5))\n",
    "plt.bar(range(len(cv_score)), cv_score)\n",
    "plt.title('Cross Validation Score')\n",
    "plt.ylabel('RMSE')\n",
    "plt.xlabel('Iteration')\n",
    "\n",
    "plt.plot(range(len(cv_score) + 1), [cv_score.mean()] * (len(cv_score) + 1))\n",
    "plt.tight_layout()"
   ]
  },
  {
   "cell_type": "code",
   "execution_count": 155,
   "metadata": {
    "collapsed": false
   },
   "outputs": [
    {
     "data": {
      "image/png": "[encoded data removed]",
      "text/plain": [
       "<matplotlib.figure.Figure at 0x11c503e48>"
      ]
     },
     "metadata": {},
     "output_type": "display_data"
    }
   ],
   "source": [
    "clf.fit(X_train, y_train)\n",
    "\n",
    "# Output feature importance coefficients, map them to their feature name, and sort values\n",
    "coef = pd.Series(clf.feature_importances_, index = X_train.columns).sort_values(ascending = False)\n",
    "\n",
    "plt.figure(figsize=(12, 7))\n",
    "coef[:15].sort_values(ascending = True).plot(kind = 'barh')\n",
    "plt.title('Feature Significance')\n",
    "plt.tight_layout()"
   ]
  },
  {
   "cell_type": "code",
   "execution_count": 156,
   "metadata": {
    "collapsed": true
   },
   "outputs": [],
   "source": [
    "model_rfr = RandomForestRegressor(n_estimators=100, n_jobs=-1)\n",
    "mse_rfr = mean_squared_error(y_test, model_rfr.fit(X_train, y_train).predict(X_test))"
   ]
  },
  {
   "cell_type": "code",
   "execution_count": 158,
   "metadata": {
    "collapsed": false
   },
   "outputs": [
    {
     "data": {
      "text/plain": [
       "1506.2166213424416"
      ]
     },
     "execution_count": 158,
     "metadata": {},
     "output_type": "execute_result"
    }
   ],
   "source": [
    "mse_rfr"
   ]
  },
  {
   "cell_type": "code",
   "execution_count": null,
   "metadata": {
    "collapsed": true
   },
   "outputs": [],
   "source": []
  }
 ],
 "metadata": {
  "anaconda-cloud": {},
  "kernelspec": {
   "display_name": "Python [Root]",
   "language": "python",
   "name": "Python [Root]"
  },
  "language_info": {
   "codemirror_mode": {
    "name": "ipython",
    "version": 3
   },
   "file_extension": ".py",
   "mimetype": "text/x-python",
   "name": "python",
   "nbconvert_exporter": "python",
   "pygments_lexer": "ipython3",
   "version": "3.5.2"
  }
 },
 "nbformat": 4,
 "nbformat_minor": 0
}
